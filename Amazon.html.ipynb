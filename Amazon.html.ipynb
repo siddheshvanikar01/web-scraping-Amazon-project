{
 "cells": [
  {
   "cell_type": "code",
   "execution_count": 43,
   "id": "ea541733-28db-433f-886c-1a70e142e79d",
   "metadata": {},
   "outputs": [
    {
     "name": "stdout",
     "output_type": "stream",
     "text": [
      "Data successfully written to Amazon_Products1.xlsx\n"
     ]
    }
   ],
   "source": [
    "import os\n",
    "from bs4 import BeautifulSoup\n",
    "import openpyxl\n",
    "\n",
    "# Step 1: Read the HTML file\n",
    "with open(\"Amazon2.html\", \"r\", encoding=\"utf-8\") as file:\n",
    "    soup = BeautifulSoup(file, \"html.parser\")\n",
    "\n",
    "# Step 2: Find all divs with the specified class\n",
    "divs = soup.find_all(\"div\", class_=\"puis-card-container s-card-container s-overflow-hidden aok-relative puis-include-content-margin puis puis-v2fl5pkubaqu126k6zseo6li6q s-latency-cf-section puis-card-border\", attrs={\"data-cy\": \"asin-faceout-container\"})\n",
    "\n",
    "# Step 3: Initialize data storage\n",
    "data = []\n",
    "\n",
    "# Step 4: Loop through all divs and extract the required information\n",
    "for div in divs:\n",
    "    # Try to find the product name\n",
    "    try:\n",
    "        product_name = div.find(\"span\", class_=\"a-size-medium a-color-base a-text-normal\").text.strip()\n",
    "    except AttributeError:\n",
    "        product_name = \" \"\n",
    "\n",
    "    # Try to find the product price\n",
    "    try:\n",
    "        product_price = div.find(\"span\", class_=\"a-price-whole\").text.strip()\n",
    "    except AttributeError:\n",
    "        product_price = \" \"\n",
    "\n",
    "    # Try to find the product reviews\n",
    "    try:\n",
    "        product_reviews = div.find(\"span\", attrs={\"aria-label\": \"3.9 out of 5 stars\"}).text.strip()\n",
    "    except AttributeError:\n",
    "        product_reviews = \" \"\n",
    "\n",
    "    # Append the data to the list\n",
    "    data.append([product_name, product_price, product_reviews])\n",
    "\n",
    "# Step 5: Write the extracted data to an Excel file\n",
    "wb = openpyxl.Workbook()\n",
    "ws = wb.active\n",
    "ws.title = \"Amazon Products\"\n",
    "\n",
    "# Add headers to the Excel sheet\n",
    "ws.append([\"Product Name\", \"Product Price\", \"Product Reviews\"])\n",
    "\n",
    "# Add the extracted data to the Excel sheet\n",
    "for item in data:\n",
    "    ws.append(item)\n",
    "\n",
    "# Save the Excel file\n",
    "output_file = \"Amazon_Products1.xlsx\"\n",
    "wb.save(output_file)\n",
    "\n",
    "print(f\"Data successfully written to {output_file}\")\n"
   ]
  }
 ],
 "metadata": {
  "kernelspec": {
   "display_name": "Python 3 (ipykernel)",
   "language": "python",
   "name": "python3"
  },
  "language_info": {
   "codemirror_mode": {
    "name": "ipython",
    "version": 3
   },
   "file_extension": ".py",
   "mimetype": "text/x-python",
   "name": "python",
   "nbconvert_exporter": "python",
   "pygments_lexer": "ipython3",
   "version": "3.12.4"
  }
 },
 "nbformat": 4,
 "nbformat_minor": 5
}
